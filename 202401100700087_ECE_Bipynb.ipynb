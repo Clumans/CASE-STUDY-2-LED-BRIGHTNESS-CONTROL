{
  "nbformat": 4,
  "nbformat_minor": 0,
  "metadata": {
    "colab": {
      "provenance": [],
      "authorship_tag": "ABX9TyMdLi7Nv2L4WYTUzMhHES0Z",
      "include_colab_link": true
    },
    "kernelspec": {
      "name": "python3",
      "display_name": "Python 3"
    },
    "language_info": {
      "name": "python"
    }
  },
  "cells": [
    {
      "cell_type": "markdown",
      "metadata": {
        "id": "view-in-github",
        "colab_type": "text"
      },
      "source": [
        "<a href=\"https://colab.research.google.com/github/Clumans/CASE-STUDY-2-LED-BRIGHTNESS-CONTROL/blob/main/202401100700087_ECE_Bipynb.ipynb\" target=\"_parent\"><img src=\"https://colab.research.google.com/assets/colab-badge.svg\" alt=\"Open In Colab\"/></a>"
      ]
    },
    {
      "cell_type": "code",
      "execution_count": null,
      "metadata": {
        "colab": {
          "base_uri": "https://localhost:8080/"
        },
        "id": "KrYpkuWd7rjd",
        "outputId": "2fa26655-993f-451a-88b6-abf9b8a30164"
      },
      "outputs": [
        {
          "output_type": "stream",
          "name": "stdout",
          "text": [
            "Enter the LED brightness (0-100): 100\n",
            "LED Brightness: [**********] 100%\n",
            "\n",
            "To exit, enter -1.\n",
            "Enter the LED brightness (0-100): 45\n",
            "LED Brightness: [****      ] 45%\n",
            "\n",
            "To exit, enter -1.\n",
            "Enter the LED brightness (0-100): 55\n",
            "LED Brightness: [*****     ] 55%\n",
            "\n",
            "To exit, enter -1.\n",
            "Enter the LED brightness (0-100): -1\n",
            "Exiting program.\n"
          ]
        }
      ],
      "source": [
        "#Case study 2: LED Brightness Control\n",
        "\n",
        "def set_brightness(brightness):\n",
        "\n",
        "    if brightness < 0:\n",
        "        brightness = 0\n",
        "    elif brightness > 100:\n",
        "        brightness = 100\n",
        "\n",
        "\n",
        "    num_stars = brightness // 10\n",
        "    print(f\"LED Brightness: [{'*' * num_stars}{' ' * (10 - num_stars)}] {brightness}%\")\n",
        "\n",
        "\n",
        "def main():\n",
        "    while True:\n",
        "        try:\n",
        "\n",
        "            brightness = int(input(\"Enter the LED brightness (0-100): \"))\n",
        "\n",
        "\n",
        "            if brightness == -1:\n",
        "                print(\"Exiting program.\")\n",
        "                break\n",
        "\n",
        "\n",
        "            set_brightness(brightness)\n",
        "\n",
        "        except ValueError:\n",
        "            print(\"Invalid input! Please enter a valid number between 0 and 100.\")\n",
        "\n",
        "        print(\"\\nTo exit, enter -1.\")\n",
        "\n",
        "\n",
        "main()"
      ]
    }
  ]
}